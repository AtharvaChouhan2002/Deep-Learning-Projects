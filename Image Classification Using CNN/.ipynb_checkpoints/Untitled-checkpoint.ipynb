{
 "cells": [
  {
   "cell_type": "code",
   "execution_count": 27,
   "id": "74e0866f",
   "metadata": {},
   "outputs": [],
   "source": [
    "import tensorflow as tf\n",
    "from tensorflow import keras\n",
    "from keras.layers import Dense,Flatten,Conv2D,MaxPool2D\n",
    "from tensorflow.keras import Sequential\n",
    "import matplotlib.pyplot as plt\n",
    "import numpy as np\n",
    "import pandas as pd\n",
    "import cv2 as cv\n",
    "from tensorflow.keras.preprocessing.image import ImageDataGenerator\n",
    "import os"
   ]
  },
  {
   "cell_type": "code",
   "execution_count": 3,
   "id": "4c08f722",
   "metadata": {},
   "outputs": [],
   "source": [
    "img=cv.imread(\"training_set\\cats\\cat.1.jpg\")"
   ]
  },
  {
   "cell_type": "code",
   "execution_count": 6,
   "id": "9b813b1b",
   "metadata": {},
   "outputs": [
    {
     "data": {
      "text/plain": [
       "(280, 300, 3)"
      ]
     },
     "execution_count": 6,
     "metadata": {},
     "output_type": "execute_result"
    }
   ],
   "source": [
    "img.shape"
   ]
  },
  {
   "cell_type": "code",
   "execution_count": 13,
   "id": "3318ac6f",
   "metadata": {},
   "outputs": [],
   "source": [
    "train=ImageDataGenerator(rescale=1/255)\n",
    "validation=ImageDataGenerator(rescale=1/255)"
   ]
  },
  {
   "cell_type": "code",
   "execution_count": 14,
   "id": "3f67ecb0",
   "metadata": {},
   "outputs": [
    {
     "name": "stdout",
     "output_type": "stream",
     "text": [
      "Found 8000 images belonging to 2 classes.\n"
     ]
    }
   ],
   "source": [
    "train_dataset=train.flow_from_directory(\"training_set/\",\n",
    "                                       target_size=(200,200,3),\n",
    "                                        batch_size=3,\n",
    "                                        class_mode=\"binary\"\n",
    "                                        \n",
    "                                       )"
   ]
  },
  {
   "cell_type": "code",
   "execution_count": 15,
   "id": "7b6659dc",
   "metadata": {},
   "outputs": [
    {
     "name": "stdout",
     "output_type": "stream",
     "text": [
      "Found 10 images belonging to 2 classes.\n"
     ]
    }
   ],
   "source": [
    "validation_dataset=train.flow_from_directory(\"Validation_data/\",\n",
    "                                       target_size=(200,200,3),\n",
    "                                        batch_size=3,\n",
    "                                        class_mode=\"binary\"\n",
    "                                        \n",
    "                                       )"
   ]
  },
  {
   "cell_type": "code",
   "execution_count": 19,
   "id": "b6ae1a11",
   "metadata": {},
   "outputs": [
    {
     "data": {
      "text/plain": [
       "array([0, 0, 0, ..., 1, 1, 1])"
      ]
     },
     "execution_count": 19,
     "metadata": {},
     "output_type": "execute_result"
    }
   ],
   "source": [
    "train_dataset.classes"
   ]
  },
  {
   "cell_type": "code",
   "execution_count": 38,
   "id": "d79a73b1",
   "metadata": {},
   "outputs": [],
   "source": [
    "model=keras.Sequential([\n",
    "    keras.layers.Conv2D(16,(3,3),activation=\"relu\",input_shape=(200,200,3)),\n",
    "    keras.layers.MaxPool2D(2,2),\n",
    "    \n",
    "    keras.layers.Conv2D(32,(3,3),activation=\"relu\"),\n",
    "    keras.layers.MaxPool2D(2,2),\n",
    "    \n",
    "    keras.layers.Conv2D(64,(3,3),activation=\"relu\"),\n",
    "    keras.layers.MaxPool2D(2,2),\n",
    "    \n",
    "    keras.layers.Flatten(),\n",
    "    keras.layers.Dense(512,activation=\"relu\"),\n",
    "    keras.layers.Dense(1,activation=\"sigmoid\")\n",
    "    \n",
    "    \n",
    "])"
   ]
  },
  {
   "cell_type": "markdown",
   "id": "4adc88f0",
   "metadata": {},
   "source": []
  }
 ],
 "metadata": {
  "kernelspec": {
   "display_name": "Python 3 (ipykernel)",
   "language": "python",
   "name": "python3"
  },
  "language_info": {
   "codemirror_mode": {
    "name": "ipython",
    "version": 3
   },
   "file_extension": ".py",
   "mimetype": "text/x-python",
   "name": "python",
   "nbconvert_exporter": "python",
   "pygments_lexer": "ipython3",
   "version": "3.9.12"
  }
 },
 "nbformat": 4,
 "nbformat_minor": 5
}
